{
 "cells": [
  {
   "cell_type": "markdown",
   "id": "fd6a0e6d",
   "metadata": {},
   "source": [
    "# Time Series Basics"
   ]
  },
  {
   "cell_type": "code",
   "execution_count": 1,
   "id": "7777b63f",
   "metadata": {},
   "outputs": [],
   "source": [
    "import pandas as pd"
   ]
  },
  {
   "cell_type": "code",
   "execution_count": 7,
   "id": "efd6aad1",
   "metadata": {},
   "outputs": [],
   "source": [
    "# Read data from CSV\n",
    "data = pd.read_csv('../data/laptop.csv')"
   ]
  },
  {
   "cell_type": "code",
   "execution_count": 8,
   "id": "6df45599",
   "metadata": {},
   "outputs": [
    {
     "data": {
      "text/html": [
       "<div>\n",
       "<style scoped>\n",
       "    .dataframe tbody tr th:only-of-type {\n",
       "        vertical-align: middle;\n",
       "    }\n",
       "\n",
       "    .dataframe tbody tr th {\n",
       "        vertical-align: top;\n",
       "    }\n",
       "\n",
       "    .dataframe thead th {\n",
       "        text-align: right;\n",
       "    }\n",
       "</style>\n",
       "<table border=\"1\" class=\"dataframe\">\n",
       "  <thead>\n",
       "    <tr style=\"text-align: right;\">\n",
       "      <th></th>\n",
       "      <th>Unnamed: 0</th>\n",
       "      <th>Name</th>\n",
       "      <th>Brand</th>\n",
       "      <th>Price</th>\n",
       "      <th>Rating</th>\n",
       "      <th>Processor_brand</th>\n",
       "      <th>Processor_name</th>\n",
       "      <th>Processor_variant</th>\n",
       "      <th>Processor_gen</th>\n",
       "      <th>Core_per_processor</th>\n",
       "      <th>...</th>\n",
       "      <th>Graphics_name</th>\n",
       "      <th>Graphics_brand</th>\n",
       "      <th>Graphics_GB</th>\n",
       "      <th>Graphics_integreted</th>\n",
       "      <th>Display_size_inches</th>\n",
       "      <th>Horizontal_pixel</th>\n",
       "      <th>Vertical_pixel</th>\n",
       "      <th>ppi</th>\n",
       "      <th>Touch_screen</th>\n",
       "      <th>Operating_system</th>\n",
       "    </tr>\n",
       "  </thead>\n",
       "  <tbody>\n",
       "    <tr>\n",
       "      <th>0</th>\n",
       "      <td>0</td>\n",
       "      <td>HP Victus 15-fb0157AX Gaming Laptop (AMD Ryzen...</td>\n",
       "      <td>HP</td>\n",
       "      <td>50399</td>\n",
       "      <td>4.30</td>\n",
       "      <td>AMD</td>\n",
       "      <td>AMD Ryzen 5</td>\n",
       "      <td>5600H</td>\n",
       "      <td>5.0</td>\n",
       "      <td>6.0</td>\n",
       "      <td>...</td>\n",
       "      <td>AMD Radeon RX 6500M</td>\n",
       "      <td>AMD</td>\n",
       "      <td>4.0</td>\n",
       "      <td>False</td>\n",
       "      <td>15.6</td>\n",
       "      <td>1920</td>\n",
       "      <td>1080</td>\n",
       "      <td>141.21</td>\n",
       "      <td>True</td>\n",
       "      <td>Windows 11 OS</td>\n",
       "    </tr>\n",
       "    <tr>\n",
       "      <th>1</th>\n",
       "      <td>1</td>\n",
       "      <td>Lenovo V15 G4 ‎82YU00W7IN Laptop (AMD Ryzen 3 ...</td>\n",
       "      <td>Lenovo</td>\n",
       "      <td>26690</td>\n",
       "      <td>4.45</td>\n",
       "      <td>AMD</td>\n",
       "      <td>AMD Ryzen 3</td>\n",
       "      <td>7320U</td>\n",
       "      <td>7.0</td>\n",
       "      <td>4.0</td>\n",
       "      <td>...</td>\n",
       "      <td>AMD Radeon Graphics</td>\n",
       "      <td>AMD</td>\n",
       "      <td>NaN</td>\n",
       "      <td>False</td>\n",
       "      <td>15.6</td>\n",
       "      <td>1920</td>\n",
       "      <td>1080</td>\n",
       "      <td>141.21</td>\n",
       "      <td>False</td>\n",
       "      <td>Windows 11 OS</td>\n",
       "    </tr>\n",
       "    <tr>\n",
       "      <th>2</th>\n",
       "      <td>2</td>\n",
       "      <td>HP 15s-fq5007TU Laptop (12th Gen Core i3/ 8GB/...</td>\n",
       "      <td>HP</td>\n",
       "      <td>37012</td>\n",
       "      <td>4.65</td>\n",
       "      <td>Intel</td>\n",
       "      <td>Intel Core i3</td>\n",
       "      <td>1215U</td>\n",
       "      <td>12.0</td>\n",
       "      <td>6.0</td>\n",
       "      <td>...</td>\n",
       "      <td>Intel UHD Graphics</td>\n",
       "      <td>Intel</td>\n",
       "      <td>NaN</td>\n",
       "      <td>False</td>\n",
       "      <td>15.6</td>\n",
       "      <td>1920</td>\n",
       "      <td>1080</td>\n",
       "      <td>141.21</td>\n",
       "      <td>False</td>\n",
       "      <td>Windows 11 OS</td>\n",
       "    </tr>\n",
       "    <tr>\n",
       "      <th>3</th>\n",
       "      <td>3</td>\n",
       "      <td>Samsung Galaxy Book2 Pro 13 Laptop (12th Gen C...</td>\n",
       "      <td>Samsung</td>\n",
       "      <td>69990</td>\n",
       "      <td>4.75</td>\n",
       "      <td>Intel</td>\n",
       "      <td>Intel Core i5</td>\n",
       "      <td>1240P</td>\n",
       "      <td>12.0</td>\n",
       "      <td>12.0</td>\n",
       "      <td>...</td>\n",
       "      <td>Intel Iris Xe Graphics</td>\n",
       "      <td>Intel</td>\n",
       "      <td>NaN</td>\n",
       "      <td>False</td>\n",
       "      <td>13.3</td>\n",
       "      <td>1080</td>\n",
       "      <td>1920</td>\n",
       "      <td>165.63</td>\n",
       "      <td>False</td>\n",
       "      <td>Windows 11 OS</td>\n",
       "    </tr>\n",
       "    <tr>\n",
       "      <th>4</th>\n",
       "      <td>4</td>\n",
       "      <td>Tecno Megabook T1 Laptop (11th Gen Core i3/ 8G...</td>\n",
       "      <td>Tecno</td>\n",
       "      <td>23990</td>\n",
       "      <td>4.25</td>\n",
       "      <td>Intel</td>\n",
       "      <td>Intel Core i3</td>\n",
       "      <td>1115G4</td>\n",
       "      <td>11.0</td>\n",
       "      <td>2.0</td>\n",
       "      <td>...</td>\n",
       "      <td>Intel UHD Graphics</td>\n",
       "      <td>Intel</td>\n",
       "      <td>NaN</td>\n",
       "      <td>False</td>\n",
       "      <td>15.6</td>\n",
       "      <td>1920</td>\n",
       "      <td>1080</td>\n",
       "      <td>141.21</td>\n",
       "      <td>False</td>\n",
       "      <td>Windows 11 OS</td>\n",
       "    </tr>\n",
       "  </tbody>\n",
       "</table>\n",
       "<p>5 rows × 29 columns</p>\n",
       "</div>"
      ],
      "text/plain": [
       "   Unnamed: 0                                               Name    Brand  \\\n",
       "0           0  HP Victus 15-fb0157AX Gaming Laptop (AMD Ryzen...       HP   \n",
       "1           1  Lenovo V15 G4 ‎82YU00W7IN Laptop (AMD Ryzen 3 ...   Lenovo   \n",
       "2           2  HP 15s-fq5007TU Laptop (12th Gen Core i3/ 8GB/...       HP   \n",
       "3           3  Samsung Galaxy Book2 Pro 13 Laptop (12th Gen C...  Samsung   \n",
       "4           4  Tecno Megabook T1 Laptop (11th Gen Core i3/ 8G...    Tecno   \n",
       "\n",
       "   Price  Rating Processor_brand Processor_name Processor_variant  \\\n",
       "0  50399    4.30             AMD    AMD Ryzen 5             5600H   \n",
       "1  26690    4.45             AMD    AMD Ryzen 3             7320U   \n",
       "2  37012    4.65           Intel  Intel Core i3             1215U   \n",
       "3  69990    4.75           Intel  Intel Core i5             1240P   \n",
       "4  23990    4.25           Intel  Intel Core i3            1115G4   \n",
       "\n",
       "   Processor_gen  Core_per_processor  ...           Graphics_name  \\\n",
       "0            5.0                 6.0  ...     AMD Radeon RX 6500M   \n",
       "1            7.0                 4.0  ...     AMD Radeon Graphics   \n",
       "2           12.0                 6.0  ...      Intel UHD Graphics   \n",
       "3           12.0                12.0  ...  Intel Iris Xe Graphics   \n",
       "4           11.0                 2.0  ...      Intel UHD Graphics   \n",
       "\n",
       "   Graphics_brand  Graphics_GB  Graphics_integreted  Display_size_inches  \\\n",
       "0             AMD          4.0                False                 15.6   \n",
       "1             AMD          NaN                False                 15.6   \n",
       "2           Intel          NaN                False                 15.6   \n",
       "3           Intel          NaN                False                 13.3   \n",
       "4           Intel          NaN                False                 15.6   \n",
       "\n",
       "   Horizontal_pixel Vertical_pixel     ppi Touch_screen Operating_system  \n",
       "0              1920           1080  141.21         True    Windows 11 OS  \n",
       "1              1920           1080  141.21        False    Windows 11 OS  \n",
       "2              1920           1080  141.21        False    Windows 11 OS  \n",
       "3              1080           1920  165.63        False    Windows 11 OS  \n",
       "4              1920           1080  141.21        False    Windows 11 OS  \n",
       "\n",
       "[5 rows x 29 columns]"
      ]
     },
     "execution_count": 8,
     "metadata": {},
     "output_type": "execute_result"
    }
   ],
   "source": [
    "# Print first 5 rows from the begining\n",
    "data.head()"
   ]
  },
  {
   "cell_type": "code",
   "execution_count": 10,
   "id": "a9993625",
   "metadata": {},
   "outputs": [
    {
     "name": "stdout",
     "output_type": "stream",
     "text": [
      "<class 'pandas.core.frame.DataFrame'>\n",
      "RangeIndex: 1020 entries, 0 to 1019\n",
      "Data columns (total 29 columns):\n",
      " #   Column                  Non-Null Count  Dtype  \n",
      "---  ------                  --------------  -----  \n",
      " 0   Unnamed: 0              1020 non-null   int64  \n",
      " 1   Name                    1020 non-null   object \n",
      " 2   Brand                   1020 non-null   object \n",
      " 3   Price                   1020 non-null   int64  \n",
      " 4   Rating                  1020 non-null   float64\n",
      " 5   Processor_brand         1020 non-null   object \n",
      " 6   Processor_name          1020 non-null   object \n",
      " 7   Processor_variant       996 non-null    object \n",
      " 8   Processor_gen           891 non-null    float64\n",
      " 9   Core_per_processor      1008 non-null   float64\n",
      " 10  Total_processor         573 non-null    float64\n",
      " 11  Execution_units         573 non-null    float64\n",
      " 12  Low_Power_Cores         1020 non-null   float64\n",
      " 13  Energy_Efficient_Units  1020 non-null   int64  \n",
      " 14  Threads                 972 non-null    float64\n",
      " 15  RAM_GB                  1020 non-null   int64  \n",
      " 16  RAM_type                998 non-null    object \n",
      " 17  Storage_capacity_GB     1020 non-null   int64  \n",
      " 18  Storage_type            1020 non-null   object \n",
      " 19  Graphics_name           1018 non-null   object \n",
      " 20  Graphics_brand          1018 non-null   object \n",
      " 21  Graphics_GB             368 non-null    float64\n",
      " 22  Graphics_integreted     1018 non-null   object \n",
      " 23  Display_size_inches     1020 non-null   float64\n",
      " 24  Horizontal_pixel        1020 non-null   int64  \n",
      " 25  Vertical_pixel          1020 non-null   int64  \n",
      " 26  ppi                     1020 non-null   float64\n",
      " 27  Touch_screen            1020 non-null   bool   \n",
      " 28  Operating_system        1020 non-null   object \n",
      "dtypes: bool(1), float64(10), int64(7), object(11)\n",
      "memory usage: 224.2+ KB\n"
     ]
    }
   ],
   "source": [
    "# Get information about the data\n",
    "data.info()"
   ]
  },
  {
   "cell_type": "code",
   "execution_count": 12,
   "id": "60517c8c",
   "metadata": {},
   "outputs": [
    {
     "data": {
      "text/plain": [
       "'HP Victus 15-fb0157AX Gaming Laptop (AMD Ryzen 5 5600H/ 8GB/ 512GB SSD/ Win11/ 4GB Graph)'"
      ]
     },
     "execution_count": 12,
     "metadata": {},
     "output_type": "execute_result"
    }
   ],
   "source": [
    "# Select elements from the data using pd.iloc where first params is the row and the second is the column\n",
    "data.iloc[0,1]"
   ]
  },
  {
   "cell_type": "code",
   "execution_count": 15,
   "id": "85f95ed4",
   "metadata": {},
   "outputs": [
    {
     "data": {
      "text/plain": [
       "Name                 HP Victus 15-fb0157AX Gaming Laptop (AMD Ryzen...\n",
       "Brand                                                               HP\n",
       "Price                                                            50399\n",
       "Rating                                                             4.3\n",
       "Processor_brand                                                    AMD\n",
       "Processor_name                                             AMD Ryzen 5\n",
       "Processor_variant                                                5600H\n",
       "Processor_gen                                                      5.0\n",
       "Name: 0, dtype: object"
      ]
     },
     "execution_count": 15,
     "metadata": {},
     "output_type": "execute_result"
    }
   ],
   "source": [
    "# Slice data using pd.iloc\n",
    "data.iloc[0,1:9]"
   ]
  },
  {
   "cell_type": "code",
   "execution_count": 16,
   "id": "99736100",
   "metadata": {},
   "outputs": [
    {
     "data": {
      "text/plain": [
       "0    HP Victus 15-fb0157AX Gaming Laptop (AMD Ryzen...\n",
       "1    Lenovo V15 G4 ‎82YU00W7IN Laptop (AMD Ryzen 3 ...\n",
       "2    HP 15s-fq5007TU Laptop (12th Gen Core i3/ 8GB/...\n",
       "3    Samsung Galaxy Book2 Pro 13 Laptop (12th Gen C...\n",
       "4    Tecno Megabook T1 Laptop (11th Gen Core i3/ 8G...\n",
       "5    Samsung Galaxy Book2 NP550XED-KA1IN 15 Laptop ...\n",
       "6    Xiaomi Redmi G Pro 2024 Gaming Laptop (14th Ge...\n",
       "7    Dell Inspiron 3520 D560896WIN9B Laptop (12th G...\n",
       "8    HP 15s-fq5330TU Laptop (12th Gen Core i5/ 16GB...\n",
       "9    Asus Vivobook 15 X1502ZA-EJ544WS Laptop (12th ...\n",
       "Name: Name, dtype: object"
      ]
     },
     "execution_count": 16,
     "metadata": {},
     "output_type": "execute_result"
    }
   ],
   "source": [
    "data.iloc[0:10, 1]"
   ]
  },
  {
   "cell_type": "code",
   "execution_count": 17,
   "id": "b1dabe14",
   "metadata": {},
   "outputs": [
    {
     "data": {
      "text/plain": [
       "RangeIndex(start=0, stop=1020, step=1)"
      ]
     },
     "execution_count": 17,
     "metadata": {},
     "output_type": "execute_result"
    }
   ],
   "source": [
    "# Get index of data\n",
    "data.index"
   ]
  }
 ],
 "metadata": {
  "kernelspec": {
   "display_name": "Python 3 (ipykernel)",
   "language": "python",
   "name": "python3"
  },
  "language_info": {
   "codemirror_mode": {
    "name": "ipython",
    "version": 3
   },
   "file_extension": ".py",
   "mimetype": "text/x-python",
   "name": "python",
   "nbconvert_exporter": "python",
   "pygments_lexer": "ipython3",
   "version": "3.11.5"
  }
 },
 "nbformat": 4,
 "nbformat_minor": 5
}
